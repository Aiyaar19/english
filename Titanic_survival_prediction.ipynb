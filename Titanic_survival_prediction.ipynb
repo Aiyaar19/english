{
  "nbformat": 4,
  "nbformat_minor": 0,
  "metadata": {
    "colab": {
      "provenance": [],
      "authorship_tag": "ABX9TyPw3XzFCNorWubVnypeK/SO",
      "include_colab_link": true
    },
    "kernelspec": {
      "name": "python3",
      "display_name": "Python 3"
    },
    "language_info": {
      "name": "python"
    }
  },
  "cells": [
    {
      "cell_type": "markdown",
      "metadata": {
        "id": "view-in-github",
        "colab_type": "text"
      },
      "source": [
        "<a href=\"https://colab.research.google.com/github/Aiyaar19/english/blob/main/Titanic_survival_prediction.ipynb\" target=\"_parent\"><img src=\"https://colab.research.google.com/assets/colab-badge.svg\" alt=\"Open In Colab\"/></a>"
      ]
    },
    {
      "cell_type": "code",
      "execution_count": 17,
      "metadata": {
        "colab": {
          "base_uri": "https://localhost:8080/"
        },
        "id": "h3Ouxk59s3Rj",
        "outputId": "8aee8968-8a29-4b4a-9902-b123ce079b7f"
      },
      "outputs": [
        {
          "output_type": "stream",
          "name": "stdout",
          "text": [
            "Dataset loaded successfully.\n",
            "First 5 rows of the dataset\n",
            "   PassengerId  Survived  Pclass  \\\n",
            "0            1         0       3   \n",
            "1            2         1       1   \n",
            "2            3         1       3   \n",
            "3            4         1       1   \n",
            "4            5         0       3   \n",
            "\n",
            "                                                Name     Sex   Age  SibSp  \\\n",
            "0                            Braund, Mr. Owen Harris    male  22.0      1   \n",
            "1  Cumings, Mrs. John Bradley (Florence Briggs Th...  female  38.0      1   \n",
            "2                             Heikkinen, Miss. Laina  female  26.0      0   \n",
            "3       Futrelle, Mrs. Jacques Heath (Lily May Peel)  female  35.0      1   \n",
            "4                           Allen, Mr. William Henry    male  35.0      0   \n",
            "\n",
            "   Parch            Ticket     Fare Cabin Embarked  \n",
            "0      0         A/5 21171   7.2500   NaN        S  \n",
            "1      0          PC 17599  71.2833   C85        C  \n",
            "2      0  STON/O2. 3101282   7.9250   NaN        S  \n",
            "3      0            113803  53.1000  C123        S  \n",
            "4      0            373450   8.0500   NaN        S  \n"
          ]
        }
      ],
      "source": [
        "import pandas as pd\n",
        "from sklearn.model_selection import train_test_split\n",
        "from sklearn.linear_model import LogisticRegression\n",
        "from sklearn.metrics import accuracy_score, classification_report\n",
        "\n",
        "try:\n",
        "  titanic_df = pd.read_csv(\"/content/Titanic-Dataset.csv\")\n",
        "  print(\"Dataset loaded successfully.\")\n",
        "  print(\"First 5 rows of the dataset\")\n",
        "  print(titanic_df.head())\n",
        "except Exception as e:\n",
        "  print(f\"Error loading dataset: {e}\")"
      ]
    },
    {
      "cell_type": "code",
      "source": [
        "print(\"\\nDataset Info before cleaning:\")\n",
        "titanic_df.info()\n",
        "titanic_df = titanic_df.drop(['Name', 'Ticket', 'Cabin'], axis = 1)\n",
        "\n",
        "median_age = titanic_df['Age'].median()\n",
        "titanic_df['Age'].fillna(median_age, inplace = True)\n",
        "mode_embarked = titanic_df['Embarked'].mode()[0]\n",
        "titanic_df['Embarked'].fillna(mode_embarked, inplace = True)\n",
        "\n",
        "print(\"\\nData after proccessing (first 5 rows):\")\n",
        "print(titanic_df.head())\n",
        "\n",
        "features = ['Pclass', 'Age', 'SibSp', 'Parch', 'Fare', 'Embarked']\n",
        "X = titanic_df[features]\n",
        "y = titanic_df['Survived']\n",
        "\n",
        "# Convert 'Embarked' column to numeric using one-hot encoding\n",
        "X = pd.get_dummies(X, columns=['Embarked'], drop_first=True)\n",
        "\n",
        "X_train, X_test, y_train, y_test = train_test_split(X,y, test_size=0.2, random_state=42)\n",
        "print(f\"\\nData split into {len(X_train)} training sample and {len(X_test)} testing samples.\")\n",
        "\n",
        "model = LogisticRegression(max_iter=1000)\n",
        "\n",
        "model.fit(X_train, y_train)\n",
        "print(\"\\nModel trained successfully.\")\n",
        "\n",
        "y_pred = model.predict(X_test)\n",
        "\n",
        "accuracy = accuracy_score(y_test, y_pred)\n",
        "print(f\"\\nModel accuracy: {accuracy:.4f}\")\n",
        "\n",
        "print(\"\\nClassification Report:\")\n",
        "print(classification_report(y_test, y_pred))"
      ],
      "metadata": {
        "colab": {
          "base_uri": "https://localhost:8080/"
        },
        "id": "nECCRjvnu0Fo",
        "outputId": "47c5c334-012b-422c-9635-bee50cb87cd2"
      },
      "execution_count": 18,
      "outputs": [
        {
          "output_type": "stream",
          "name": "stdout",
          "text": [
            "\n",
            "Dataset Info before cleaning:\n",
            "<class 'pandas.core.frame.DataFrame'>\n",
            "RangeIndex: 891 entries, 0 to 890\n",
            "Data columns (total 12 columns):\n",
            " #   Column       Non-Null Count  Dtype  \n",
            "---  ------       --------------  -----  \n",
            " 0   PassengerId  891 non-null    int64  \n",
            " 1   Survived     891 non-null    int64  \n",
            " 2   Pclass       891 non-null    int64  \n",
            " 3   Name         891 non-null    object \n",
            " 4   Sex          891 non-null    object \n",
            " 5   Age          714 non-null    float64\n",
            " 6   SibSp        891 non-null    int64  \n",
            " 7   Parch        891 non-null    int64  \n",
            " 8   Ticket       891 non-null    object \n",
            " 9   Fare         891 non-null    float64\n",
            " 10  Cabin        204 non-null    object \n",
            " 11  Embarked     889 non-null    object \n",
            "dtypes: float64(2), int64(5), object(5)\n",
            "memory usage: 83.7+ KB\n",
            "\n",
            "Data after proccessing (first 5 rows):\n",
            "   PassengerId  Survived  Pclass     Sex   Age  SibSp  Parch     Fare Embarked\n",
            "0            1         0       3    male  22.0      1      0   7.2500        S\n",
            "1            2         1       1  female  38.0      1      0  71.2833        C\n",
            "2            3         1       3  female  26.0      0      0   7.9250        S\n",
            "3            4         1       1  female  35.0      1      0  53.1000        S\n",
            "4            5         0       3    male  35.0      0      0   8.0500        S\n",
            "\n",
            "Data split into 712 training sample and 179 testing samples.\n",
            "\n",
            "Model trained successfully.\n",
            "\n",
            "Model accuracy: 0.7207\n",
            "\n",
            "Classification Report:\n",
            "              precision    recall  f1-score   support\n",
            "\n",
            "           0       0.71      0.88      0.79       105\n",
            "           1       0.74      0.50      0.60        74\n",
            "\n",
            "    accuracy                           0.72       179\n",
            "   macro avg       0.73      0.69      0.69       179\n",
            "weighted avg       0.72      0.72      0.71       179\n",
            "\n"
          ]
        },
        {
          "output_type": "stream",
          "name": "stderr",
          "text": [
            "/tmp/ipython-input-3058107904.py:6: FutureWarning: A value is trying to be set on a copy of a DataFrame or Series through chained assignment using an inplace method.\n",
            "The behavior will change in pandas 3.0. This inplace method will never work because the intermediate object on which we are setting values always behaves as a copy.\n",
            "\n",
            "For example, when doing 'df[col].method(value, inplace=True)', try using 'df.method({col: value}, inplace=True)' or df[col] = df[col].method(value) instead, to perform the operation inplace on the original object.\n",
            "\n",
            "\n",
            "  titanic_df['Age'].fillna(median_age, inplace = True)\n",
            "/tmp/ipython-input-3058107904.py:8: FutureWarning: A value is trying to be set on a copy of a DataFrame or Series through chained assignment using an inplace method.\n",
            "The behavior will change in pandas 3.0. This inplace method will never work because the intermediate object on which we are setting values always behaves as a copy.\n",
            "\n",
            "For example, when doing 'df[col].method(value, inplace=True)', try using 'df.method({col: value}, inplace=True)' or df[col] = df[col].method(value) instead, to perform the operation inplace on the original object.\n",
            "\n",
            "\n",
            "  titanic_df['Embarked'].fillna(mode_embarked, inplace = True)\n"
          ]
        }
      ]
    }
  ]
}